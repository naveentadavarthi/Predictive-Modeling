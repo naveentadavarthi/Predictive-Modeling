{
 "cells": [
  {
   "cell_type": "markdown",
   "id": "086d4845-804f-40b3-b6e8-623322e2038b",
   "metadata": {},
   "source": [
    "# MODELLING & EVALUATION"
   ]
  },
  {
   "cell_type": "code",
   "execution_count": 1,
   "id": "69e7b756-146e-457e-aa0f-b8ba436a0d57",
   "metadata": {},
   "outputs": [],
   "source": [
    "import pandas as pd\n",
    "import numpy as np\n",
    "import warnings\n",
    "warnings.filterwarnings('ignore')"
   ]
  },
  {
   "cell_type": "code",
   "execution_count": 2,
   "id": "70615fa5-4a5d-4b79-b669-570b232dd1c9",
   "metadata": {},
   "outputs": [],
   "source": [
    "df=pd.read_csv('cleaned_cars.csv')"
   ]
  },
  {
   "cell_type": "code",
   "execution_count": 3,
   "id": "b90b5445-d2c9-4a8f-9807-ee7ad234bfae",
   "metadata": {},
   "outputs": [
    {
     "data": {
      "text/html": [
       "<div>\n",
       "<style scoped>\n",
       "    .dataframe tbody tr th:only-of-type {\n",
       "        vertical-align: middle;\n",
       "    }\n",
       "\n",
       "    .dataframe tbody tr th {\n",
       "        vertical-align: top;\n",
       "    }\n",
       "\n",
       "    .dataframe thead th {\n",
       "        text-align: right;\n",
       "    }\n",
       "</style>\n",
       "<table border=\"1\" class=\"dataframe\">\n",
       "  <thead>\n",
       "    <tr style=\"text-align: right;\">\n",
       "      <th></th>\n",
       "      <th>Brand</th>\n",
       "      <th>Model</th>\n",
       "      <th>Year</th>\n",
       "      <th>Kilometers_Driven</th>\n",
       "      <th>Mileage</th>\n",
       "      <th>Price</th>\n",
       "      <th>Fuel_Type_Petrol</th>\n",
       "      <th>Owner_Type_Second</th>\n",
       "      <th>log_Engine</th>\n",
       "      <th>log_Power</th>\n",
       "      <th>boxcox_Seats</th>\n",
       "    </tr>\n",
       "  </thead>\n",
       "  <tbody>\n",
       "    <tr>\n",
       "      <th>0</th>\n",
       "      <td>9</td>\n",
       "      <td>15</td>\n",
       "      <td>2018</td>\n",
       "      <td>50000</td>\n",
       "      <td>15</td>\n",
       "      <td>800000</td>\n",
       "      <td>1</td>\n",
       "      <td>0</td>\n",
       "      <td>7.311886</td>\n",
       "      <td>4.682131</td>\n",
       "      <td>0.397292</td>\n",
       "    </tr>\n",
       "    <tr>\n",
       "      <th>1</th>\n",
       "      <td>3</td>\n",
       "      <td>14</td>\n",
       "      <td>2019</td>\n",
       "      <td>40000</td>\n",
       "      <td>17</td>\n",
       "      <td>1000000</td>\n",
       "      <td>1</td>\n",
       "      <td>1</td>\n",
       "      <td>7.375882</td>\n",
       "      <td>4.941642</td>\n",
       "      <td>0.397292</td>\n",
       "    </tr>\n",
       "    <tr>\n",
       "      <th>2</th>\n",
       "      <td>2</td>\n",
       "      <td>30</td>\n",
       "      <td>2017</td>\n",
       "      <td>20000</td>\n",
       "      <td>10</td>\n",
       "      <td>2500000</td>\n",
       "      <td>1</td>\n",
       "      <td>0</td>\n",
       "      <td>8.507345</td>\n",
       "      <td>5.978886</td>\n",
       "      <td>0.391701</td>\n",
       "    </tr>\n",
       "    <tr>\n",
       "      <th>3</th>\n",
       "      <td>6</td>\n",
       "      <td>42</td>\n",
       "      <td>2020</td>\n",
       "      <td>30000</td>\n",
       "      <td>23</td>\n",
       "      <td>600000</td>\n",
       "      <td>0</td>\n",
       "      <td>0</td>\n",
       "      <td>7.129298</td>\n",
       "      <td>4.304065</td>\n",
       "      <td>0.397292</td>\n",
       "    </tr>\n",
       "    <tr>\n",
       "      <th>4</th>\n",
       "      <td>4</td>\n",
       "      <td>41</td>\n",
       "      <td>2016</td>\n",
       "      <td>60000</td>\n",
       "      <td>18</td>\n",
       "      <td>850000</td>\n",
       "      <td>0</td>\n",
       "      <td>1</td>\n",
       "      <td>7.600402</td>\n",
       "      <td>5.267858</td>\n",
       "      <td>0.397292</td>\n",
       "    </tr>\n",
       "    <tr>\n",
       "      <th>...</th>\n",
       "      <td>...</td>\n",
       "      <td>...</td>\n",
       "      <td>...</td>\n",
       "      <td>...</td>\n",
       "      <td>...</td>\n",
       "      <td>...</td>\n",
       "      <td>...</td>\n",
       "      <td>...</td>\n",
       "      <td>...</td>\n",
       "      <td>...</td>\n",
       "      <td>...</td>\n",
       "    </tr>\n",
       "    <tr>\n",
       "      <th>95</th>\n",
       "      <td>7</td>\n",
       "      <td>11</td>\n",
       "      <td>2019</td>\n",
       "      <td>22000</td>\n",
       "      <td>16</td>\n",
       "      <td>2900000</td>\n",
       "      <td>0</td>\n",
       "      <td>0</td>\n",
       "      <td>7.575585</td>\n",
       "      <td>5.252273</td>\n",
       "      <td>0.397292</td>\n",
       "    </tr>\n",
       "    <tr>\n",
       "      <th>96</th>\n",
       "      <td>9</td>\n",
       "      <td>29</td>\n",
       "      <td>2017</td>\n",
       "      <td>38000</td>\n",
       "      <td>13</td>\n",
       "      <td>1400000</td>\n",
       "      <td>0</td>\n",
       "      <td>1</td>\n",
       "      <td>7.921173</td>\n",
       "      <td>5.141664</td>\n",
       "      <td>0.401583</td>\n",
       "    </tr>\n",
       "    <tr>\n",
       "      <th>97</th>\n",
       "      <td>2</td>\n",
       "      <td>18</td>\n",
       "      <td>2018</td>\n",
       "      <td>26000</td>\n",
       "      <td>18</td>\n",
       "      <td>750000</td>\n",
       "      <td>1</td>\n",
       "      <td>0</td>\n",
       "      <td>7.311218</td>\n",
       "      <td>4.795791</td>\n",
       "      <td>0.397292</td>\n",
       "    </tr>\n",
       "    <tr>\n",
       "      <th>98</th>\n",
       "      <td>4</td>\n",
       "      <td>50</td>\n",
       "      <td>2019</td>\n",
       "      <td>24000</td>\n",
       "      <td>17</td>\n",
       "      <td>850000</td>\n",
       "      <td>1</td>\n",
       "      <td>1</td>\n",
       "      <td>7.311218</td>\n",
       "      <td>4.727388</td>\n",
       "      <td>0.397292</td>\n",
       "    </tr>\n",
       "    <tr>\n",
       "      <th>99</th>\n",
       "      <td>8</td>\n",
       "      <td>7</td>\n",
       "      <td>2020</td>\n",
       "      <td>18000</td>\n",
       "      <td>20</td>\n",
       "      <td>600000</td>\n",
       "      <td>1</td>\n",
       "      <td>0</td>\n",
       "      <td>7.089243</td>\n",
       "      <td>4.442651</td>\n",
       "      <td>0.397292</td>\n",
       "    </tr>\n",
       "  </tbody>\n",
       "</table>\n",
       "<p>100 rows × 11 columns</p>\n",
       "</div>"
      ],
      "text/plain": [
       "    Brand  Model  Year  Kilometers_Driven  Mileage    Price  Fuel_Type_Petrol  \\\n",
       "0       9     15  2018              50000       15   800000                 1   \n",
       "1       3     14  2019              40000       17  1000000                 1   \n",
       "2       2     30  2017              20000       10  2500000                 1   \n",
       "3       6     42  2020              30000       23   600000                 0   \n",
       "4       4     41  2016              60000       18   850000                 0   \n",
       "..    ...    ...   ...                ...      ...      ...               ...   \n",
       "95      7     11  2019              22000       16  2900000                 0   \n",
       "96      9     29  2017              38000       13  1400000                 0   \n",
       "97      2     18  2018              26000       18   750000                 1   \n",
       "98      4     50  2019              24000       17   850000                 1   \n",
       "99      8      7  2020              18000       20   600000                 1   \n",
       "\n",
       "    Owner_Type_Second  log_Engine  log_Power  boxcox_Seats  \n",
       "0                   0    7.311886   4.682131      0.397292  \n",
       "1                   1    7.375882   4.941642      0.397292  \n",
       "2                   0    8.507345   5.978886      0.391701  \n",
       "3                   0    7.129298   4.304065      0.397292  \n",
       "4                   1    7.600402   5.267858      0.397292  \n",
       "..                ...         ...        ...           ...  \n",
       "95                  0    7.575585   5.252273      0.397292  \n",
       "96                  1    7.921173   5.141664      0.401583  \n",
       "97                  0    7.311218   4.795791      0.397292  \n",
       "98                  1    7.311218   4.727388      0.397292  \n",
       "99                  0    7.089243   4.442651      0.397292  \n",
       "\n",
       "[100 rows x 11 columns]"
      ]
     },
     "execution_count": 3,
     "metadata": {},
     "output_type": "execute_result"
    }
   ],
   "source": [
    "df"
   ]
  },
  {
   "cell_type": "code",
   "execution_count": 4,
   "id": "df99e31e-3b50-4a11-a3ca-a5eda908c5dc",
   "metadata": {},
   "outputs": [],
   "source": [
    "x=df.drop(columns=['Price'])\n",
    "y=df['Price']"
   ]
  },
  {
   "cell_type": "code",
   "execution_count": 5,
   "id": "e756d4fe-b156-4384-9e4d-0dc0cb05c09f",
   "metadata": {},
   "outputs": [],
   "source": [
    "from sklearn.model_selection import train_test_split\n",
    "from sklearn.linear_model import LinearRegression\n",
    "from sklearn.model_selection import cross_val_score\n",
    "cv=[]\n",
    "train=[]\n",
    "for i in range(1,100):\n",
    "    x_train,x_test,y_train,y_test=train_test_split(x,y,train_size=0.8,random_state=i)\n",
    "    model=LinearRegression()\n",
    "    model.fit(x_train,y_train)\n",
    "    train_r2=model.score(x_train,y_train)\n",
    "    CV=cross_val_score(model,x_train,y_train,cv=5,scoring='r2').mean()\n",
    "    train.append(train_r2)\n",
    "    cv.append(CV)    "
   ]
  },
  {
   "cell_type": "code",
   "execution_count": 6,
   "id": "85713a21-5e4e-473b-a042-8027b3349244",
   "metadata": {},
   "outputs": [],
   "source": [
    "df1=pd.DataFrame({'Train':train,'CV':cv})"
   ]
  },
  {
   "cell_type": "code",
   "execution_count": 7,
   "id": "9defab52-ffff-4c48-b276-2729f4d448d0",
   "metadata": {},
   "outputs": [],
   "source": [
    "df2=df1[(df1['Train']-df1['CV'])<=0.5]"
   ]
  },
  {
   "cell_type": "code",
   "execution_count": 8,
   "id": "bf84344f-51a9-4fc5-98a6-80a2c5cd9439",
   "metadata": {},
   "outputs": [
    {
     "data": {
      "text/html": [
       "<div>\n",
       "<style scoped>\n",
       "    .dataframe tbody tr th:only-of-type {\n",
       "        vertical-align: middle;\n",
       "    }\n",
       "\n",
       "    .dataframe tbody tr th {\n",
       "        vertical-align: top;\n",
       "    }\n",
       "\n",
       "    .dataframe thead th {\n",
       "        text-align: right;\n",
       "    }\n",
       "</style>\n",
       "<table border=\"1\" class=\"dataframe\">\n",
       "  <thead>\n",
       "    <tr style=\"text-align: right;\">\n",
       "      <th></th>\n",
       "      <th>Train</th>\n",
       "      <th>CV</th>\n",
       "    </tr>\n",
       "  </thead>\n",
       "  <tbody>\n",
       "    <tr>\n",
       "      <th>69</th>\n",
       "      <td>0.891342</td>\n",
       "      <td>0.83998</td>\n",
       "    </tr>\n",
       "  </tbody>\n",
       "</table>\n",
       "</div>"
      ],
      "text/plain": [
       "       Train       CV\n",
       "69  0.891342  0.83998"
      ]
     },
     "execution_count": 8,
     "metadata": {},
     "output_type": "execute_result"
    }
   ],
   "source": [
    "df2[df2['CV']==df2['CV'].max()]"
   ]
  },
  {
   "cell_type": "code",
   "execution_count": 9,
   "id": "f8378eb5-5565-4a71-9b3b-43089a0893fc",
   "metadata": {},
   "outputs": [],
   "source": [
    "x_train,x_test,y_train,y_test=train_test_split(x,y,train_size=0.8,random_state=69)"
   ]
  },
  {
   "cell_type": "markdown",
   "id": "b297f195-d63a-44d8-a847-6ffb9fe5de86",
   "metadata": {},
   "source": [
    "# LINEAR REGRESSION"
   ]
  },
  {
   "cell_type": "code",
   "execution_count": 10,
   "id": "b7114e13-c8d3-46fb-a344-1c4b4efe1228",
   "metadata": {},
   "outputs": [
    {
     "name": "stdout",
     "output_type": "stream",
     "text": [
      "coefficeint: [ 4.66637018e+03 -6.55352749e+03 -1.26840857e+04 -2.10606019e+01\n",
      "  1.66944986e+03 -3.30862172e+05 -3.44145797e+04 -5.09434674e+05\n",
      "  2.34304804e+06  6.37143156e+07]\n",
      "intercept: -5070345.976959741\n",
      "mse of train: 141949300888.47427\n",
      "mse of test: 141623418327.93018\n",
      "RMSE: 376328.8699102557\n",
      "R2_score of Train Data: 0.858798131346729\n",
      "R2_score of Test Data: 0.8473669704600676\n",
      "cross_val_score : 0.7484558805448249\n"
     ]
    }
   ],
   "source": [
    "from sklearn.linear_model import LinearRegression\n",
    "from sklearn.model_selection import cross_val_score\n",
    "from sklearn.metrics import r2_score,mean_squared_error\n",
    "model=LinearRegression()\n",
    "model.fit(x_train,y_train)\n",
    "print('coefficeint:',model.coef_)\n",
    "print('intercept:',model.intercept_)\n",
    "\n",
    "ypred_train=model.predict(x_train)\n",
    "ypred_test=model.predict(x_test)\n",
    "\n",
    "print(\"mse of train:\",mean_squared_error(y_train,ypred_train))\n",
    "print(\"mse of test:\",mean_squared_error(y_test,ypred_test))\n",
    "print(\"RMSE:\",(mean_squared_error(y_test,ypred_test))**(1/2))\n",
    "\n",
    "print(\"R2_score of Train Data:\",r2_score(y_train,ypred_train))\n",
    "print(\"R2_score of Test Data:\",r2_score(y_test,ypred_test))\n",
    "\n",
    "cv=cross_val_score(model,x_train,y_train,cv=5,scoring='r2').mean()\n",
    "print(\"cross_val_score :\",cv)\n",
    "\n"
   ]
  },
  {
   "cell_type": "markdown",
   "id": "fb56abe8-002e-4772-b240-59a36bddd1cc",
   "metadata": {},
   "source": [
    "# POLYNOMIAL REGRESSION"
   ]
  },
  {
   "cell_type": "code",
   "execution_count": 11,
   "id": "1a59124e-23e2-4c74-9756-7c12dabbf2a1",
   "metadata": {},
   "outputs": [],
   "source": [
    "from sklearn.preprocessing import PolynomialFeatures\n",
    "pf=PolynomialFeatures(degree=2)\n",
    "x_train_poly=pf.fit_transform(x_train)\n",
    "x_test_poly=pf.transform(x_test)"
   ]
  },
  {
   "cell_type": "code",
   "execution_count": 12,
   "id": "17a19b81-096c-420b-868b-2170aea6d55b",
   "metadata": {},
   "outputs": [
    {
     "name": "stdout",
     "output_type": "stream",
     "text": [
      "mse of train: 6284839.957449859\n",
      "mse of test: 1544613020695.9255\n",
      "RMSE: 1242824.613811589\n",
      "R2_score of Train Data: 0.9999937482527873\n",
      "R2_score of Test Data: -0.6646891283879597\n",
      "cross_val_score : -19.860862183442894\n"
     ]
    }
   ],
   "source": [
    "from sklearn.linear_model import LinearRegression\n",
    "from sklearn.model_selection import cross_val_score\n",
    "from sklearn.metrics import r2_score,mean_squared_error\n",
    "model=LinearRegression()\n",
    "model.fit(x_train_poly,y_train)\n",
    "#print('coefficeint:',model.coef_)\n",
    "#print('intercept:',model.intercept_)\n",
    "\n",
    "ypred_train=model.predict(x_train_poly)\n",
    "ypred_test=model.predict(x_test_poly)\n",
    "\n",
    "print(\"mse of train:\",mean_squared_error(y_train,ypred_train))\n",
    "print(\"mse of test:\",mean_squared_error(y_test,ypred_test))\n",
    "print(\"RMSE:\",(mean_squared_error(y_test,ypred_test))**(1/2))\n",
    "\n",
    "print(\"R2_score of Train Data:\",r2_score(y_train,ypred_train))\n",
    "print(\"R2_score of Test Data:\",r2_score(y_test,ypred_test))\n",
    "\n",
    "cv=cross_val_score(model,x_train_poly,y_train,cv=5,scoring='r2').mean()\n",
    "print(\"cross_val_score :\",cv)\n",
    "\n"
   ]
  },
  {
   "cell_type": "markdown",
   "id": "a401a1c4-2d5f-4292-bcce-5f89285efb58",
   "metadata": {},
   "source": [
    "# LASSO"
   ]
  },
  {
   "cell_type": "code",
   "execution_count": 13,
   "id": "645c30eb-258b-4b1b-a9a8-7ae533d74b7c",
   "metadata": {},
   "outputs": [
    {
     "data": {
      "text/plain": [
       "{'alpha': 1}"
      ]
     },
     "execution_count": 13,
     "metadata": {},
     "output_type": "execute_result"
    }
   ],
   "source": [
    "from sklearn.linear_model import Lasso\n",
    "from sklearn.model_selection import GridSearchCV\n",
    "estimator=Lasso()\n",
    "param_grid={'alpha':list(range(1,10))}\n",
    "gd=GridSearchCV(estimator,param_grid,cv=5)\n",
    "gd.fit(x_train,y_train)\n",
    "gd.best_params_\n"
   ]
  },
  {
   "cell_type": "code",
   "execution_count": 14,
   "id": "99ea9bcc-f72a-4858-ac21-ee811191308e",
   "metadata": {},
   "outputs": [
    {
     "name": "stdout",
     "output_type": "stream",
     "text": [
      "coefficeint: [ 4.67393743e+03 -6.56278032e+03 -1.25984487e+04 -2.10357089e+01\n",
      "  1.61302523e+03 -3.31259828e+05 -3.41052123e+04 -5.08201830e+05\n",
      "  2.34150156e+06  6.33187946e+07]\n",
      "intercept: -5086911.932024872\n",
      "mse of train: 141949699225.62164\n",
      "mse of test: 141699936462.20123\n",
      "RMSE: 376430.5200992625\n",
      "R2_score of Train Data: 0.8587977351070208\n",
      "R2_score of Test Data: 0.8472845039104925\n",
      "cross_val_score : 0.748280665660129\n"
     ]
    }
   ],
   "source": [
    "from sklearn.model_selection import cross_val_score\n",
    "from sklearn.metrics import r2_score,mean_squared_error\n",
    "model=Lasso(alpha=1)\n",
    "model.fit(x_train,y_train)\n",
    "print('coefficeint:',model.coef_)\n",
    "print('intercept:',model.intercept_)\n",
    "\n",
    "ypred_train=model.predict(x_train)\n",
    "ypred_test=model.predict(x_test)\n",
    "\n",
    "print(\"mse of train:\",mean_squared_error(y_train,ypred_train))\n",
    "print(\"mse of test:\",mean_squared_error(y_test,ypred_test))\n",
    "print(\"RMSE:\",(mean_squared_error(y_test,ypred_test))**(1/2))\n",
    "\n",
    "print(\"R2_score of Train Data:\",r2_score(y_train,ypred_train))\n",
    "print(\"R2_score of Test Data:\",r2_score(y_test,ypred_test))\n",
    "\n",
    "cv=cross_val_score(model,x_train,y_train,cv=5,scoring='r2').mean()\n",
    "print(\"cross_val_score :\",cv)\n",
    "\n"
   ]
  },
  {
   "cell_type": "markdown",
   "id": "c268486a-3716-4579-9817-acafc3ffd070",
   "metadata": {},
   "source": [
    "# RIDGE"
   ]
  },
  {
   "cell_type": "code",
   "execution_count": 15,
   "id": "f029bc24-5915-436c-8f54-b3229e8f2b6b",
   "metadata": {},
   "outputs": [
    {
     "data": {
      "text/plain": [
       "{'alpha': 1}"
      ]
     },
     "execution_count": 15,
     "metadata": {},
     "output_type": "execute_result"
    }
   ],
   "source": [
    "from sklearn.linear_model import Ridge\n",
    "from sklearn.model_selection import GridSearchCV\n",
    "estimator=Ridge()\n",
    "param_grid={'alpha':list(range(1,20))}\n",
    "gd=GridSearchCV(estimator,param_grid,cv=5)\n",
    "gd.fit(x_train,y_train)\n",
    "gd.best_params_"
   ]
  },
  {
   "cell_type": "code",
   "execution_count": 16,
   "id": "dff289a8-f114-478c-a4e1-ac2bdc97a92a",
   "metadata": {},
   "outputs": [
    {
     "name": "stdout",
     "output_type": "stream",
     "text": [
      "coefficeint: [-7.29143388e+03 -8.14666585e+03 -2.15148434e+04 -1.93829740e+01\n",
      " -1.82067186e+04 -3.33275144e+05  2.40625015e+04  1.98864031e+05\n",
      "  1.57224040e+06  8.02469748e+03]\n",
      "intercept: 36991148.72487668\n",
      "mse of train: 161691802911.66425\n",
      "mse of test: 181350043379.93964\n",
      "RMSE: 425852.13793045544\n",
      "R2_score of Train Data: 0.8391595832163962\n",
      "R2_score of Test Data: 0.8045520518069612\n",
      "cross_val_score : 0.7091528819443147\n"
     ]
    }
   ],
   "source": [
    "from sklearn.model_selection import cross_val_score\n",
    "from sklearn.metrics import r2_score,mean_squared_error\n",
    "model=Ridge(alpha=1)\n",
    "model.fit(x_train,y_train)\n",
    "print('coefficeint:',model.coef_)\n",
    "print('intercept:',model.intercept_)\n",
    "\n",
    "ypred_train=model.predict(x_train)\n",
    "ypred_test=model.predict(x_test)\n",
    "\n",
    "print(\"mse of train:\",mean_squared_error(y_train,ypred_train))\n",
    "print(\"mse of test:\",mean_squared_error(y_test,ypred_test))\n",
    "print(\"RMSE:\",(mean_squared_error(y_test,ypred_test))**(1/2))\n",
    "\n",
    "print(\"R2_score of Train Data:\",r2_score(y_train,ypred_train))\n",
    "print(\"R2_score of Test Data:\",r2_score(y_test,ypred_test))\n",
    "\n",
    "cv=cross_val_score(model,x_train,y_train,cv=5,scoring='r2').mean()\n",
    "print(\"cross_val_score :\",cv)\n"
   ]
  },
  {
   "cell_type": "markdown",
   "id": "31580717-8b52-433d-9049-eb5f1552ce26",
   "metadata": {},
   "source": [
    "# ELASTIC NET"
   ]
  },
  {
   "cell_type": "code",
   "execution_count": 17,
   "id": "13054132-a8c6-46e3-bb4d-830c997176b8",
   "metadata": {},
   "outputs": [
    {
     "data": {
      "text/plain": [
       "{'alpha': 1, 'l1_ratio': 1.0}"
      ]
     },
     "execution_count": 17,
     "metadata": {},
     "output_type": "execute_result"
    }
   ],
   "source": [
    "from sklearn.linear_model import ElasticNet\n",
    "from sklearn.model_selection import GridSearchCV\n",
    "estimator=ElasticNet()\n",
    "param_grid={'alpha':list(range(1,50)),'l1_ratio':[0.1,0.2,0.3,0.4,0.5,0.6,0.7,0.8,0.9,1.0]}\n",
    "gd=GridSearchCV(estimator,param_grid,cv=5)\n",
    "gd.fit(x_train,y_train)\n",
    "gd.best_params_"
   ]
  },
  {
   "cell_type": "code",
   "execution_count": 30,
   "id": "34c6ddea-4f54-487c-87de-3f31bf8186fa",
   "metadata": {},
   "outputs": [
    {
     "name": "stdout",
     "output_type": "stream",
     "text": [
      "coefficeint: [ 4.67393743e+03 -6.56278032e+03 -1.25984487e+04 -2.10357089e+01\n",
      "  1.61302523e+03 -3.31259828e+05 -3.41052123e+04 -5.08201830e+05\n",
      "  2.34150156e+06  6.33187946e+07]\n",
      "intercept: -5086911.932024872\n",
      "mse of train: 141949699225.62164\n",
      "mse of test: 141699936462.20123\n",
      "RMSE: 376430.5200992625\n",
      "R2_score of Train Data: 0.8587977351070208\n",
      "R2_score of Test Data: 0.8472845039104925\n",
      "cross_val_score : 0.748280665660129\n"
     ]
    }
   ],
   "source": [
    "from sklearn.model_selection import cross_val_score\n",
    "from sklearn.metrics import r2_score,mean_squared_error\n",
    "model=ElasticNet(alpha=1,l1_ratio=1.0)\n",
    "model.fit(x_train,y_train)\n",
    "print('coefficeint:',model.coef_)\n",
    "print('intercept:',model.intercept_)\n",
    "\n",
    "ypred_train=model.predict(x_train)\n",
    "ypred_test=model.predict(x_test)\n",
    "\n",
    "print(\"mse of train:\",mean_squared_error(y_train,ypred_train))\n",
    "print(\"mse of test:\",mean_squared_error(y_test,ypred_test))\n",
    "print(\"RMSE:\",(mean_squared_error(y_test,ypred_test))**(1/2))\n",
    "\n",
    "print(\"R2_score of Train Data:\",r2_score(y_train,ypred_train))\n",
    "print(\"R2_score of Test Data:\",r2_score(y_test,ypred_test))\n",
    "\n",
    "cv=cross_val_score(model,x_train,y_train,cv=5,scoring='r2').mean()\n",
    "print(\"cross_val_score :\",cv)\n"
   ]
  },
  {
   "cell_type": "markdown",
   "id": "032e39cb-5e65-4cdd-87b5-b6871ccd2265",
   "metadata": {},
   "source": [
    "# APPLYING PCA"
   ]
  },
  {
   "cell_type": "code",
   "execution_count": 19,
   "id": "ade0cbcc-6791-41f9-9f17-7f3d8e9a8e60",
   "metadata": {},
   "outputs": [],
   "source": [
    "from sklearn.decomposition import PCA\n",
    "pca=PCA(n_components=0.95)\n",
    "x_train_pca=pca.fit_transform(x_train)\n",
    "x_test_pca=pca.transform(x_test)"
   ]
  },
  {
   "cell_type": "markdown",
   "id": "1585bcd3-006a-434f-8567-48dc04eecde1",
   "metadata": {},
   "source": [
    "# LINEAR"
   ]
  },
  {
   "cell_type": "code",
   "execution_count": 20,
   "id": "1111544b-9729-4da3-aed7-4d22ef5c5e60",
   "metadata": {},
   "outputs": [
    {
     "name": "stdout",
     "output_type": "stream",
     "text": [
      "coefficeint: [-4.55220153]\n",
      "intercept: 1560625.0\n",
      "mse of train: 1003417710564.0289\n",
      "mse of test: 927305122227.9336\n",
      "RMSE: 962966.8333997458\n",
      "R2_score of Train Data: 0.0018657726060552493\n",
      "R2_score of Test Data: 0.0006074434256637673\n",
      "cross_val_score : -0.1290063068044637\n"
     ]
    }
   ],
   "source": [
    "from sklearn.model_selection import cross_val_score\n",
    "from sklearn.metrics import r2_score,mean_squared_error\n",
    "model=LinearRegression()\n",
    "model.fit(x_train_pca,y_train)\n",
    "print('coefficeint:',model.coef_)\n",
    "print('intercept:',model.intercept_)\n",
    "\n",
    "ypred_train=model.predict(x_train_pca)\n",
    "ypred_test=model.predict(x_test_pca)\n",
    "\n",
    "print(\"mse of train:\",mean_squared_error(y_train,ypred_train))\n",
    "print(\"mse of test:\",mean_squared_error(y_test,ypred_test))\n",
    "print(\"RMSE:\",(mean_squared_error(y_test,ypred_test))**(1/2))\n",
    "\n",
    "print(\"R2_score of Train Data:\",r2_score(y_train,ypred_train))\n",
    "print(\"R2_score of Test Data:\",r2_score(y_test,ypred_test))\n",
    "\n",
    "cv=cross_val_score(model,x_train_pca,y_train,cv=5,scoring='r2').mean()\n",
    "print(\"cross_val_score :\",cv)\n",
    "\n"
   ]
  },
  {
   "cell_type": "markdown",
   "id": "4e2457a9-d35a-488c-9423-79ee1fd73d8c",
   "metadata": {},
   "source": [
    "# LASSO"
   ]
  },
  {
   "cell_type": "code",
   "execution_count": 21,
   "id": "a12592e5-7966-48fd-8259-39bca9ce6b45",
   "metadata": {},
   "outputs": [
    {
     "data": {
      "text/plain": [
       "{'alpha': 9}"
      ]
     },
     "execution_count": 21,
     "metadata": {},
     "output_type": "execute_result"
    }
   ],
   "source": [
    "from sklearn.linear_model import Lasso\n",
    "from sklearn.model_selection import GridSearchCV\n",
    "estimator=Lasso()\n",
    "param_grid={'alpha':list(range(1,10))}\n",
    "gd=GridSearchCV(estimator,param_grid,cv=5)\n",
    "gd.fit(x_train_pca,y_train)\n",
    "gd.best_params_"
   ]
  },
  {
   "cell_type": "code",
   "execution_count": 29,
   "id": "2c1901ad-0888-4d8e-8950-ad5ffea323c9",
   "metadata": {},
   "outputs": [
    {
     "name": "stdout",
     "output_type": "stream",
     "text": [
      "coefficeint: [-4.55220143]\n",
      "intercept: 1560625.0\n",
      "mse of train: 1003417710564.0287\n",
      "mse of test: 927305122315.3738\n",
      "RMSE: 962966.8334451471\n",
      "R2_score of Train Data: 0.0018657726060553603\n",
      "R2_score of Test Data: 0.0006074433314261496\n",
      "cross_val_score : -0.12900630634253457\n"
     ]
    }
   ],
   "source": [
    "from sklearn.model_selection import cross_val_score\n",
    "from sklearn.metrics import r2_score,mean_squared_error\n",
    "model_lasso=Lasso(alpha=9)\n",
    "model_lasso.fit(x_train_pca,y_train)\n",
    "print('coefficeint:',model_lasso.coef_)\n",
    "print('intercept:',model_lasso.intercept_)\n",
    "\n",
    "ypred_train=model_lasso.predict(x_train_pca)\n",
    "ypred_test=model_lasso.predict(x_test_pca)\n",
    "\n",
    "print(\"mse of train:\",mean_squared_error(y_train,ypred_train))\n",
    "print(\"mse of test:\",mean_squared_error(y_test,ypred_test))\n",
    "print(\"RMSE:\",(mean_squared_error(y_test,ypred_test))**(1/2))\n",
    "\n",
    "print(\"R2_score of Train Data:\",r2_score(y_train,ypred_train))\n",
    "print(\"R2_score of Test Data:\",r2_score(y_test,ypred_test))\n",
    "\n",
    "cv=cross_val_score(model_lasso,x_train_pca,y_train,cv=5,scoring='r2').mean()\n",
    "print(\"cross_val_score :\",cv)\n",
    "\n"
   ]
  },
  {
   "cell_type": "markdown",
   "id": "3fc8beaa-d79c-4011-895e-b6dd8b6326f1",
   "metadata": {},
   "source": [
    "# RIDGE"
   ]
  },
  {
   "cell_type": "code",
   "execution_count": 23,
   "id": "05130ebf-24a8-4a82-880f-e2582c728a88",
   "metadata": {},
   "outputs": [
    {
     "data": {
      "text/plain": [
       "{'alpha': 499}"
      ]
     },
     "execution_count": 23,
     "metadata": {},
     "output_type": "execute_result"
    }
   ],
   "source": [
    "from sklearn.linear_model import Ridge\n",
    "from sklearn.model_selection import GridSearchCV\n",
    "estimator=Ridge()\n",
    "param_grid={'alpha':list(range(1,500))}\n",
    "gd=GridSearchCV(estimator,param_grid,cv=5)\n",
    "gd.fit(x_train_pca,y_train)\n",
    "gd.best_params_"
   ]
  },
  {
   "cell_type": "code",
   "execution_count": 28,
   "id": "941435bc-e53d-434c-92b4-953199c8fb67",
   "metadata": {},
   "outputs": [
    {
     "name": "stdout",
     "output_type": "stream",
     "text": [
      "coefficeint: [-4.55220122]\n",
      "intercept: 1560625.0\n",
      "mse of train: 1003417710564.0289\n",
      "mse of test: 927305122503.8018\n",
      "RMSE: 962966.8335429843\n",
      "R2_score of Train Data: 0.0018657726060552493\n",
      "R2_score of Test Data: 0.0006074431283500381\n",
      "cross_val_score : -0.12900630165967913\n"
     ]
    }
   ],
   "source": [
    "from sklearn.model_selection import cross_val_score\n",
    "from sklearn.metrics import r2_score,mean_squared_error\n",
    "model=Ridge(alpha=499)\n",
    "model.fit(x_train_pca,y_train)\n",
    "print('coefficeint:',model.coef_)\n",
    "print('intercept:',model.intercept_)\n",
    "\n",
    "ypred_train=model.predict(x_train_pca)\n",
    "ypred_test=model.predict(x_test_pca)\n",
    "\n",
    "print(\"mse of train:\",mean_squared_error(y_train,ypred_train))\n",
    "print(\"mse of test:\",mean_squared_error(y_test,ypred_test))\n",
    "print(\"RMSE:\",(mean_squared_error(y_test,ypred_test))**(1/2))\n",
    "\n",
    "print(\"R2_score of Train Data:\",r2_score(y_train,ypred_train))\n",
    "print(\"R2_score of Test Data:\",r2_score(y_test,ypred_test))\n",
    "\n",
    "cv=cross_val_score(model,x_train_pca,y_train,cv=5,scoring='r2').mean()\n",
    "print(\"cross_val_score :\",cv)\n"
   ]
  },
  {
   "cell_type": "markdown",
   "id": "79da5e25-4e3a-47ef-882e-0ba3d1056541",
   "metadata": {},
   "source": [
    "# ELASTIC NET"
   ]
  },
  {
   "cell_type": "code",
   "execution_count": 25,
   "id": "2fa79bd5-6b6f-4904-af9f-33575bb5d918",
   "metadata": {},
   "outputs": [
    {
     "data": {
      "text/plain": [
       "{'alpha': 49, 'l1_ratio': 0.1}"
      ]
     },
     "execution_count": 25,
     "metadata": {},
     "output_type": "execute_result"
    }
   ],
   "source": [
    "from sklearn.linear_model import ElasticNet\n",
    "from sklearn.model_selection import GridSearchCV\n",
    "estimator=ElasticNet()\n",
    "param_grid={'alpha':list(range(1,50)),'l1_ratio':[0.1,0.2,0.3,0.4,0.5,0.6,0.7,0.8,0.9,1.0]}\n",
    "gd=GridSearchCV(estimator,param_grid,cv=5)\n",
    "gd.fit(x_train_pca,y_train)\n",
    "gd.best_params_"
   ]
  },
  {
   "cell_type": "code",
   "execution_count": 27,
   "id": "ffd22289-a1a6-4826-8dfb-49f4c24f3528",
   "metadata": {},
   "outputs": [
    {
     "name": "stdout",
     "output_type": "stream",
     "text": [
      "coefficeint: [-4.55219926]\n",
      "intercept: 1560625.0\n",
      "mse of train: 1003417710564.0293\n",
      "mse of test: 927305124225.9681\n",
      "RMSE: 962966.8344371825\n",
      "R2_score of Train Data: 0.0018657726060548052\n",
      "R2_score of Test Data: 0.0006074412723047207\n",
      "cross_val_score : -0.12900627745350426\n"
     ]
    }
   ],
   "source": [
    "from sklearn.model_selection import cross_val_score\n",
    "from sklearn.metrics import r2_score,mean_squared_error\n",
    "model=ElasticNet(alpha=49,l1_ratio=0.1)\n",
    "model.fit(x_train_pca,y_train)\n",
    "print('coefficeint:',model.coef_)\n",
    "print('intercept:',model.intercept_)\n",
    "\n",
    "ypred_train=model.predict(x_train_pca)\n",
    "ypred_test=model.predict(x_test_pca)\n",
    "\n",
    "print(\"mse of train:\",mean_squared_error(y_train,ypred_train))\n",
    "print(\"mse of test:\",mean_squared_error(y_test,ypred_test))\n",
    "print(\"RMSE:\",(mean_squared_error(y_test,ypred_test))**(1/2))\n",
    "\n",
    "print(\"R2_score of Train Data:\",r2_score(y_train,ypred_train))\n",
    "print(\"R2_score of Test Data:\",r2_score(y_test,ypred_test))\n",
    "\n",
    "cv=cross_val_score(model,x_train_pca,y_train,cv=5,scoring='r2').mean()\n",
    "print(\"cross_val_score :\",cv)"
   ]
  },
  {
   "cell_type": "code",
   "execution_count": null,
   "id": "0c35be3e-08e9-45d9-9cde-007022f2417c",
   "metadata": {},
   "outputs": [],
   "source": []
  }
 ],
 "metadata": {
  "kernelspec": {
   "display_name": "Python [conda env:base] *",
   "language": "python",
   "name": "conda-base-py"
  },
  "language_info": {
   "codemirror_mode": {
    "name": "ipython",
    "version": 3
   },
   "file_extension": ".py",
   "mimetype": "text/x-python",
   "name": "python",
   "nbconvert_exporter": "python",
   "pygments_lexer": "ipython3",
   "version": "3.13.5"
  }
 },
 "nbformat": 4,
 "nbformat_minor": 5
}
